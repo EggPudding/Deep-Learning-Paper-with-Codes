{
  "nbformat": 4,
  "nbformat_minor": 0,
  "metadata": {
    "colab": {
      "name": "ResNet.ipynb",
      "provenance": [],
      "collapsed_sections": [],
      "authorship_tag": "ABX9TyNcw+nuBK/X1KAjcyUahxg0",
      "include_colab_link": true
    },
    "kernelspec": {
      "name": "python3",
      "display_name": "Python 3"
    },
    "accelerator": "GPU",
    "widgets": {
      "application/vnd.jupyter.widget-state+json": {
        "d1171b688b0d499590af068361435a5b": {
          "model_module": "@jupyter-widgets/controls",
          "model_name": "HBoxModel",
          "state": {
            "_view_name": "HBoxView",
            "_dom_classes": [],
            "_model_name": "HBoxModel",
            "_view_module": "@jupyter-widgets/controls",
            "_model_module_version": "1.5.0",
            "_view_count": null,
            "_view_module_version": "1.5.0",
            "box_style": "",
            "layout": "IPY_MODEL_59e2154878ac4c43a1a6981811789caa",
            "_model_module": "@jupyter-widgets/controls",
            "children": [
              "IPY_MODEL_079d9e86f4e94436aa24bd2e813d4d36",
              "IPY_MODEL_5582f94eba1d4e5aa784218718ca1fef"
            ]
          }
        },
        "59e2154878ac4c43a1a6981811789caa": {
          "model_module": "@jupyter-widgets/base",
          "model_name": "LayoutModel",
          "state": {
            "_view_name": "LayoutView",
            "grid_template_rows": null,
            "right": null,
            "justify_content": null,
            "_view_module": "@jupyter-widgets/base",
            "overflow": null,
            "_model_module_version": "1.2.0",
            "_view_count": null,
            "flex_flow": null,
            "width": null,
            "min_width": null,
            "border": null,
            "align_items": null,
            "bottom": null,
            "_model_module": "@jupyter-widgets/base",
            "top": null,
            "grid_column": null,
            "overflow_y": null,
            "overflow_x": null,
            "grid_auto_flow": null,
            "grid_area": null,
            "grid_template_columns": null,
            "flex": null,
            "_model_name": "LayoutModel",
            "justify_items": null,
            "grid_row": null,
            "max_height": null,
            "align_content": null,
            "visibility": null,
            "align_self": null,
            "height": null,
            "min_height": null,
            "padding": null,
            "grid_auto_rows": null,
            "grid_gap": null,
            "max_width": null,
            "order": null,
            "_view_module_version": "1.2.0",
            "grid_template_areas": null,
            "object_position": null,
            "object_fit": null,
            "grid_auto_columns": null,
            "margin": null,
            "display": null,
            "left": null
          }
        },
        "079d9e86f4e94436aa24bd2e813d4d36": {
          "model_module": "@jupyter-widgets/controls",
          "model_name": "FloatProgressModel",
          "state": {
            "_view_name": "ProgressView",
            "style": "IPY_MODEL_dc89bfab03d44c2fa0727bb80e4d15f1",
            "_dom_classes": [],
            "description": "",
            "_model_name": "FloatProgressModel",
            "bar_style": "info",
            "max": 1,
            "_view_module": "@jupyter-widgets/controls",
            "_model_module_version": "1.5.0",
            "value": 1,
            "_view_count": null,
            "_view_module_version": "1.5.0",
            "orientation": "horizontal",
            "min": 0,
            "description_tooltip": null,
            "_model_module": "@jupyter-widgets/controls",
            "layout": "IPY_MODEL_5d5a6fb651f740d489c6866affb80d9e"
          }
        },
        "5582f94eba1d4e5aa784218718ca1fef": {
          "model_module": "@jupyter-widgets/controls",
          "model_name": "HTMLModel",
          "state": {
            "_view_name": "HTMLView",
            "style": "IPY_MODEL_0106f22456064643bbcf51fb4b283ebb",
            "_dom_classes": [],
            "description": "",
            "_model_name": "HTMLModel",
            "placeholder": "​",
            "_view_module": "@jupyter-widgets/controls",
            "_model_module_version": "1.5.0",
            "value": " 170500096/? [00:20&lt;00:00, 93564749.11it/s]",
            "_view_count": null,
            "_view_module_version": "1.5.0",
            "description_tooltip": null,
            "_model_module": "@jupyter-widgets/controls",
            "layout": "IPY_MODEL_a32ec6af2cfd455e8abeed4b8c7df19a"
          }
        },
        "dc89bfab03d44c2fa0727bb80e4d15f1": {
          "model_module": "@jupyter-widgets/controls",
          "model_name": "ProgressStyleModel",
          "state": {
            "_view_name": "StyleView",
            "_model_name": "ProgressStyleModel",
            "description_width": "initial",
            "_view_module": "@jupyter-widgets/base",
            "_model_module_version": "1.5.0",
            "_view_count": null,
            "_view_module_version": "1.2.0",
            "bar_color": null,
            "_model_module": "@jupyter-widgets/controls"
          }
        },
        "5d5a6fb651f740d489c6866affb80d9e": {
          "model_module": "@jupyter-widgets/base",
          "model_name": "LayoutModel",
          "state": {
            "_view_name": "LayoutView",
            "grid_template_rows": null,
            "right": null,
            "justify_content": null,
            "_view_module": "@jupyter-widgets/base",
            "overflow": null,
            "_model_module_version": "1.2.0",
            "_view_count": null,
            "flex_flow": null,
            "width": null,
            "min_width": null,
            "border": null,
            "align_items": null,
            "bottom": null,
            "_model_module": "@jupyter-widgets/base",
            "top": null,
            "grid_column": null,
            "overflow_y": null,
            "overflow_x": null,
            "grid_auto_flow": null,
            "grid_area": null,
            "grid_template_columns": null,
            "flex": null,
            "_model_name": "LayoutModel",
            "justify_items": null,
            "grid_row": null,
            "max_height": null,
            "align_content": null,
            "visibility": null,
            "align_self": null,
            "height": null,
            "min_height": null,
            "padding": null,
            "grid_auto_rows": null,
            "grid_gap": null,
            "max_width": null,
            "order": null,
            "_view_module_version": "1.2.0",
            "grid_template_areas": null,
            "object_position": null,
            "object_fit": null,
            "grid_auto_columns": null,
            "margin": null,
            "display": null,
            "left": null
          }
        },
        "0106f22456064643bbcf51fb4b283ebb": {
          "model_module": "@jupyter-widgets/controls",
          "model_name": "DescriptionStyleModel",
          "state": {
            "_view_name": "StyleView",
            "_model_name": "DescriptionStyleModel",
            "description_width": "",
            "_view_module": "@jupyter-widgets/base",
            "_model_module_version": "1.5.0",
            "_view_count": null,
            "_view_module_version": "1.2.0",
            "_model_module": "@jupyter-widgets/controls"
          }
        },
        "a32ec6af2cfd455e8abeed4b8c7df19a": {
          "model_module": "@jupyter-widgets/base",
          "model_name": "LayoutModel",
          "state": {
            "_view_name": "LayoutView",
            "grid_template_rows": null,
            "right": null,
            "justify_content": null,
            "_view_module": "@jupyter-widgets/base",
            "overflow": null,
            "_model_module_version": "1.2.0",
            "_view_count": null,
            "flex_flow": null,
            "width": null,
            "min_width": null,
            "border": null,
            "align_items": null,
            "bottom": null,
            "_model_module": "@jupyter-widgets/base",
            "top": null,
            "grid_column": null,
            "overflow_y": null,
            "overflow_x": null,
            "grid_auto_flow": null,
            "grid_area": null,
            "grid_template_columns": null,
            "flex": null,
            "_model_name": "LayoutModel",
            "justify_items": null,
            "grid_row": null,
            "max_height": null,
            "align_content": null,
            "visibility": null,
            "align_self": null,
            "height": null,
            "min_height": null,
            "padding": null,
            "grid_auto_rows": null,
            "grid_gap": null,
            "max_width": null,
            "order": null,
            "_view_module_version": "1.2.0",
            "grid_template_areas": null,
            "object_position": null,
            "object_fit": null,
            "grid_auto_columns": null,
            "margin": null,
            "display": null,
            "left": null
          }
        }
      }
    }
  },
  "cells": [
    {
      "cell_type": "markdown",
      "metadata": {
        "id": "view-in-github",
        "colab_type": "text"
      },
      "source": [
        "<a href=\"https://colab.research.google.com/github/EggPudding/Deep-Learning-Practice-with-Codes/blob/main/ResNet.ipynb\" target=\"_parent\"><img src=\"https://colab.research.google.com/assets/colab-badge.svg\" alt=\"Open In Colab\"/></a>"
      ]
    },
    {
      "cell_type": "markdown",
      "metadata": {
        "id": "PyNLjjJDWsZ8"
      },
      "source": [
        "## **Going Deeper with Convolutions (CVPR 2015) Tutorial**\r\n",
        "\r\n",
        "*   Pratice for GoogLeNet Architecture\r\n",
        "*   Orginal Paper: https://arxiv.org/abs/1512.03385\r\n",
        "*   Note that you first change **Runtime** to **GPU** setting\r\n",
        "*   **CIFAR-10** Dataset is used for practice for simplicity\r\n",
        "*   Part of codes from https://github.com/kuangliu/pytorch-cifar"
      ]
    },
    {
      "cell_type": "code",
      "metadata": {
        "colab": {
          "base_uri": "https://localhost:8080/"
        },
        "id": "hYzy0XdDDboD",
        "outputId": "f8eccf86-2757-44c2-e3b9-6c0e37d77a8a"
      },
      "source": [
        "!nvidia-smi # Make Sure you are using GPU"
      ],
      "execution_count": 4,
      "outputs": [
        {
          "output_type": "stream",
          "text": [
            "Mon Jan 25 02:31:46 2021       \n",
            "+-----------------------------------------------------------------------------+\n",
            "| NVIDIA-SMI 460.32.03    Driver Version: 418.67       CUDA Version: 10.1     |\n",
            "|-------------------------------+----------------------+----------------------+\n",
            "| GPU  Name        Persistence-M| Bus-Id        Disp.A | Volatile Uncorr. ECC |\n",
            "| Fan  Temp  Perf  Pwr:Usage/Cap|         Memory-Usage | GPU-Util  Compute M. |\n",
            "|                               |                      |               MIG M. |\n",
            "|===============================+======================+======================|\n",
            "|   0  Tesla T4            Off  | 00000000:00:04.0 Off |                    0 |\n",
            "| N/A   45C    P8     9W /  70W |      0MiB / 15079MiB |      0%      Default |\n",
            "|                               |                      |                 ERR! |\n",
            "+-------------------------------+----------------------+----------------------+\n",
            "                                                                               \n",
            "+-----------------------------------------------------------------------------+\n",
            "| Processes:                                                                  |\n",
            "|  GPU   GI   CI        PID   Type   Process name                  GPU Memory |\n",
            "|        ID   ID                                                   Usage      |\n",
            "|=============================================================================|\n",
            "|  No running processes found                                                 |\n",
            "+-----------------------------------------------------------------------------+\n"
          ],
          "name": "stdout"
        }
      ]
    },
    {
      "cell_type": "markdown",
      "metadata": {
        "id": "EryRO7ySDfj_"
      },
      "source": [
        "### **ResNet Model Definition**\r\n",
        "* In this **Tutorial**, **ResNet-18** architecture is utilized since relatively simple dataset is used, **CIFAR-10**.\r\n"
      ]
    },
    {
      "cell_type": "code",
      "metadata": {
        "id": "KvwRsoXcDhhQ"
      },
      "source": [
        "import torch\r\n",
        "import torch.nn as nn\r\n",
        "import torch.nn.functional as F\r\n",
        "\r\n",
        "import torch.backends.cudnn as cudnn\r\n",
        "import torch.optim as optim\r\n",
        "\r\n",
        "import os\r\n",
        "\r\n",
        "# ResNet Architecture consists of small building blocks with skip connection.\r\n",
        "# Thus, it is useful to define such block as an independent module.\r\n",
        "class BasicBlock(nn.Module):\r\n",
        "    \"\"\" There are two types of Block in original resnet paper.\r\n",
        "    Since we focus on simple CIFAR10 dataset, we are going to utilize basic blocks.\r\n",
        "\r\n",
        "    There's detailed explanation on another type of Block in the paper\r\n",
        "    which is for making network deeper with fewer parameters, so\r\n",
        "    I highly recommand you to read the original paper :)\r\n",
        "    \"\"\"\r\n",
        "    def __init__(self, in_planes, planes, stride=1):\r\n",
        "        super(BasicBlock, self).__init__()\r\n",
        "\r\n",
        "        self.conv1 = nn.Conv2d(in_planes, planes, kernel_size=3, stride=stride, padding=1, bias=False)\r\n",
        "        self.bn1 = nn.BatchNorm2d(planes)\r\n",
        "\r\n",
        "        self.conv2 = nn.Conv2d(planes, planes, kernel_size=3, stride=1, padding=1, bias=False)\r\n",
        "        self.bn2 = nn.BatchNorm2d(planes)\r\n",
        "\r\n",
        "        self.shortcut = nn.Sequential()\r\n",
        "        if stride != 1: # In case of downsizing\r\n",
        "            self.shortcut = nn.Sequential(\r\n",
        "                nn.Conv2d(in_planes, planes, kernel_size=1, stride=stride, bias=False),\r\n",
        "                nn.BatchNorm2d(planes)\r\n",
        "            )\r\n",
        "\r\n",
        "    def forward(self, x):\r\n",
        "        out = F.relu(self.bn1(self.conv1(x)))\r\n",
        "        out = self.bn2(self.conv2(out))\r\n",
        "        out += self.shortcut(x) # Skip Connection\r\n",
        "        out = F.relu(out)\r\n",
        "        return out\r\n",
        "\r\n",
        "# ResNet Implementation\r\n",
        "# Especially ResNet18 which is the lightest model in resnet family utilized\r\n",
        "# since we are dealing with CIFAR 10 which is relatively small dataset.\r\n",
        "class ResNet(nn.Module):\r\n",
        "    def __init__(self, block, num_blocks, num_classes=10):\r\n",
        "        super(ResNet, self).__init__()\r\n",
        "        self.in_planes = 64\r\n",
        "\r\n",
        "        self.conv1 = nn.Conv2d(3, 64, kernel_size=3, stride=1, padding=1, bias=False)\r\n",
        "        self.bn1 = nn.BatchNorm2d(64)\r\n",
        "        self.layer1 = self._make_layer(block, 64, num_blocks[0], stride=1)\r\n",
        "        self.layer2 = self._make_layer(block, 128, num_blocks[1], stride=2)\r\n",
        "        self.layer3 = self._make_layer(block, 256, num_blocks[2], stride=2)\r\n",
        "        self.layer4 = self._make_layer(block, 512, num_blocks[3], stride=2)\r\n",
        "        self.linear = nn.Linear(512, num_classes)\r\n",
        "\r\n",
        "    def _make_layer(self, block, planes, num_blocks, stride):\r\n",
        "        strides = [stride] + [1] * (num_blocks - 1)\r\n",
        "        layers = []\r\n",
        "        for stride in strides:\r\n",
        "            layers.append(block(self.in_planes, planes, stride))\r\n",
        "            self.in_planes = planes\r\n",
        "        return nn.Sequential(*layers)\r\n",
        "\r\n",
        "    def forward(self, x):\r\n",
        "        out = F.relu(self.bn1(self.conv1(x)))\r\n",
        "        out = self.layer1(out)\r\n",
        "        out = self.layer2(out)\r\n",
        "        out = self.layer3(out)\r\n",
        "        out = self.layer4(out)\r\n",
        "        out = F.avg_pool2d(out, 4)\r\n",
        "        out = out.view(out.size(0), -1)\r\n",
        "        out = self.linear(out)\r\n",
        "        return out\r\n",
        "\r\n",
        "\r\n",
        "def ResNet18():\r\n",
        "    return ResNet(BasicBlock, [2, 2, 2, 2])"
      ],
      "execution_count": 5,
      "outputs": []
    },
    {
      "cell_type": "markdown",
      "metadata": {
        "id": "f2p5PaQ-8B3v"
      },
      "source": [
        "### **Hyper Parameter Setting**"
      ]
    },
    {
      "cell_type": "code",
      "metadata": {
        "id": "WMnPH0YG8FuW"
      },
      "source": [
        "device = \"cuda\" if torch.cuda.is_available() else \"cpu\" # whether using gpu or cpu\r\n",
        "\r\n",
        "model = ResNet18() # model assignment\r\n",
        "model.to(device) # mapping model weight & bias into gpu memory\r\n",
        "model = torch.nn.DataParallel(model) # used for parallel setting\r\n",
        "\r\n",
        "cudnn.benchmark = True # using cudnn which optimizes the algorithm\r\n",
        "\r\n",
        "learning_rate = 0.01\r\n",
        "batch_size = 128\r\n",
        "max_epoch = 10\r\n",
        "\r\n",
        "model_path = 'resnet18_cifar10.pt'\r\n",
        "\r\n",
        "criterion = nn.CrossEntropyLoss() # simple cross-entropy is utilized\r\n",
        "optimizer = optim.Adam(model.parameters(), lr=learning_rate) # Adam optimizer utilized"
      ],
      "execution_count": 6,
      "outputs": []
    },
    {
      "cell_type": "markdown",
      "metadata": {
        "id": "CLEAkDA2Yi6v"
      },
      "source": [
        "* **torchsummary** is package for visualizing pytorch model.\r\n",
        "* Layers, Number of parameters can be viewed through this."
      ]
    },
    {
      "cell_type": "code",
      "metadata": {
        "colab": {
          "base_uri": "https://localhost:8080/"
        },
        "id": "AefbsD-30AJM",
        "outputId": "b48433f9-b57f-44c3-9ada-9c41af6bf37a"
      },
      "source": [
        "import torchsummary\r\n",
        "\r\n",
        "torchsummary.summary(model.cuda(), (3, 32, 32)) # CIFAR-10 Image has 32 x 32 x 3 shape"
      ],
      "execution_count": 7,
      "outputs": [
        {
          "output_type": "stream",
          "text": [
            "----------------------------------------------------------------\n",
            "        Layer (type)               Output Shape         Param #\n",
            "================================================================\n",
            "            Conv2d-1           [-1, 64, 32, 32]           1,728\n",
            "       BatchNorm2d-2           [-1, 64, 32, 32]             128\n",
            "            Conv2d-3           [-1, 64, 32, 32]          36,864\n",
            "       BatchNorm2d-4           [-1, 64, 32, 32]             128\n",
            "            Conv2d-5           [-1, 64, 32, 32]          36,864\n",
            "       BatchNorm2d-6           [-1, 64, 32, 32]             128\n",
            "        BasicBlock-7           [-1, 64, 32, 32]               0\n",
            "            Conv2d-8           [-1, 64, 32, 32]          36,864\n",
            "       BatchNorm2d-9           [-1, 64, 32, 32]             128\n",
            "           Conv2d-10           [-1, 64, 32, 32]          36,864\n",
            "      BatchNorm2d-11           [-1, 64, 32, 32]             128\n",
            "       BasicBlock-12           [-1, 64, 32, 32]               0\n",
            "           Conv2d-13          [-1, 128, 16, 16]          73,728\n",
            "      BatchNorm2d-14          [-1, 128, 16, 16]             256\n",
            "           Conv2d-15          [-1, 128, 16, 16]         147,456\n",
            "      BatchNorm2d-16          [-1, 128, 16, 16]             256\n",
            "           Conv2d-17          [-1, 128, 16, 16]           8,192\n",
            "      BatchNorm2d-18          [-1, 128, 16, 16]             256\n",
            "       BasicBlock-19          [-1, 128, 16, 16]               0\n",
            "           Conv2d-20          [-1, 128, 16, 16]         147,456\n",
            "      BatchNorm2d-21          [-1, 128, 16, 16]             256\n",
            "           Conv2d-22          [-1, 128, 16, 16]         147,456\n",
            "      BatchNorm2d-23          [-1, 128, 16, 16]             256\n",
            "       BasicBlock-24          [-1, 128, 16, 16]               0\n",
            "           Conv2d-25            [-1, 256, 8, 8]         294,912\n",
            "      BatchNorm2d-26            [-1, 256, 8, 8]             512\n",
            "           Conv2d-27            [-1, 256, 8, 8]         589,824\n",
            "      BatchNorm2d-28            [-1, 256, 8, 8]             512\n",
            "           Conv2d-29            [-1, 256, 8, 8]          32,768\n",
            "      BatchNorm2d-30            [-1, 256, 8, 8]             512\n",
            "       BasicBlock-31            [-1, 256, 8, 8]               0\n",
            "           Conv2d-32            [-1, 256, 8, 8]         589,824\n",
            "      BatchNorm2d-33            [-1, 256, 8, 8]             512\n",
            "           Conv2d-34            [-1, 256, 8, 8]         589,824\n",
            "      BatchNorm2d-35            [-1, 256, 8, 8]             512\n",
            "       BasicBlock-36            [-1, 256, 8, 8]               0\n",
            "           Conv2d-37            [-1, 512, 4, 4]       1,179,648\n",
            "      BatchNorm2d-38            [-1, 512, 4, 4]           1,024\n",
            "           Conv2d-39            [-1, 512, 4, 4]       2,359,296\n",
            "      BatchNorm2d-40            [-1, 512, 4, 4]           1,024\n",
            "           Conv2d-41            [-1, 512, 4, 4]         131,072\n",
            "      BatchNorm2d-42            [-1, 512, 4, 4]           1,024\n",
            "       BasicBlock-43            [-1, 512, 4, 4]               0\n",
            "           Conv2d-44            [-1, 512, 4, 4]       2,359,296\n",
            "      BatchNorm2d-45            [-1, 512, 4, 4]           1,024\n",
            "           Conv2d-46            [-1, 512, 4, 4]       2,359,296\n",
            "      BatchNorm2d-47            [-1, 512, 4, 4]           1,024\n",
            "       BasicBlock-48            [-1, 512, 4, 4]               0\n",
            "           Linear-49                   [-1, 10]           5,130\n",
            "           ResNet-50                   [-1, 10]               0\n",
            "================================================================\n",
            "Total params: 11,173,962\n",
            "Trainable params: 11,173,962\n",
            "Non-trainable params: 0\n",
            "----------------------------------------------------------------\n",
            "Input size (MB): 0.01\n",
            "Forward/backward pass size (MB): 11.25\n",
            "Params size (MB): 42.63\n",
            "Estimated Total Size (MB): 53.89\n",
            "----------------------------------------------------------------\n"
          ],
          "name": "stdout"
        }
      ]
    },
    {
      "cell_type": "markdown",
      "metadata": {
        "id": "fqk-qEJC8n2s"
      },
      "source": [
        "### **Training and Evaluation function definition**"
      ]
    },
    {
      "cell_type": "code",
      "metadata": {
        "id": "jvRdPmEb8m2b"
      },
      "source": [
        "def train(epoch, max_epoch):\r\n",
        "    print(f\"Train Epoch [{epoch}/{max_epoch}]\")\r\n",
        "    model.train() # Model to train mode\r\n",
        "\r\n",
        "    train_loss = 0\r\n",
        "    correct = 0\r\n",
        "    total = 0\r\n",
        "    acc = 0\r\n",
        "\r\n",
        "    for idx, (x, y) in enumerate(train_dataloader):\r\n",
        "        x = x.to(device) # maps data into GPU memory\r\n",
        "        y = y.to(device)\r\n",
        "\r\n",
        "        optimizer.zero_grad() # reset gradients in optimizer before calculating the loss\r\n",
        "\r\n",
        "        y_pred = model(x) # model inference\r\n",
        "        loss = criterion(y_pred, y) # calculating the loss\r\n",
        "\r\n",
        "        loss.backward() # back-propagation to get cumulative gradients\r\n",
        "\r\n",
        "        optimizer.step() # update model parameters\r\n",
        "        train_loss += loss.item()\r\n",
        "        _, inference = y_pred.max(1)\r\n",
        "\r\n",
        "        total += x.size(0)\r\n",
        "        correct += inference.eq(y).sum().item()\r\n",
        "\r\n",
        "        if idx % 100 == 0:\r\n",
        "            print(f\"Epoch [{epoch}/{max_epoch}] Batch [{idx}] Train Loss: {loss.item()}\")\r\n",
        "\r\n",
        "    acc = 100*correct/total\r\n",
        "    print(f\"Epoch [{epoch}/{max_epoch}] Train Loss: {train_loss/total} Train Accuracy: {acc}\")\r\n",
        "\r\n",
        "def valid(epoch, max_epoch):\r\n",
        "    print(f\"Valid Epoch [{epoch}/{max_epoch}]\")\r\n",
        "    model.eval() # Model to evaluation mode\r\n",
        "\r\n",
        "    valid_loss = 0\r\n",
        "    correct = 0\r\n",
        "    total = 0\r\n",
        "\r\n",
        "    for idx, (x, y) in enumerate(valid_dataloader):\r\n",
        "        x = x.to(device) # maps data into GPU memory\r\n",
        "        y = y.to(device)\r\n",
        "\r\n",
        "        with torch.no_grad():\r\n",
        "            y_pred = model(x) # model inference\r\n",
        "            valid_loss += criterion(y_pred, y).item()\r\n",
        "\r\n",
        "            _, inference = y_pred.max(1)\r\n",
        "\r\n",
        "            total += x.size(0)\r\n",
        "            correct += inference.eq(y).sum().item()\r\n",
        "\r\n",
        "    acc = 100*correct/total\r\n",
        "    print(f\"Epoch [{epoch}/{max_epoch}] Valid Loss: {valid_loss/total} Valid Accuracy: {acc}\")\r\n",
        "\r\n",
        "    if not os.path.exists('checkpoint'):\r\n",
        "        os.mkdir('checkpoint')\r\n",
        "\r\n",
        "    torch.save(model.state_dict(), f'checkpoint/{model_path}')\r\n",
        "    print(f\"Epoch [{epoch}/{max_epoch}] Valid Model Saved: checkpoint/{model_path}\")\r\n",
        "\r\n",
        "# Custom leraning rate scheduler is use.\r\n",
        "# Decay learning rate by 10 at epoch 5.\r\n",
        "def lr_schedule(optimizer, epoch):\r\n",
        "    if epoch == 5:\r\n",
        "        lr = learning_rate / 10\r\n",
        "        for param_group in optimizer.param_groups:\r\n",
        "            param_group['lr'] = lr"
      ],
      "execution_count": 8,
      "outputs": []
    },
    {
      "cell_type": "markdown",
      "metadata": {
        "id": "s0_ii30R0Ci7"
      },
      "source": [
        "### **Data Preparation**\r\n",
        "* In this **Tutorial**, we are going to use **torchvision** which contains famous vision dataset, and we will use **CIFAR-10** especially \r\n",
        "* **CIFAR-10** is dataset for classifying image into **10** different categories.\r\n",
        "* The **10** different classes represent **airplanes**, **cars**, **birds**, **cats**, **deer**, **dogs**, **frogs**, **horses**, **ships**, and **trucks**. \r\n",
        "* There are **6,000** images of each class.\r\n"
      ]
    },
    {
      "cell_type": "code",
      "metadata": {
        "colab": {
          "base_uri": "https://localhost:8080/",
          "height": 101,
          "referenced_widgets": [
            "d1171b688b0d499590af068361435a5b",
            "59e2154878ac4c43a1a6981811789caa",
            "079d9e86f4e94436aa24bd2e813d4d36",
            "5582f94eba1d4e5aa784218718ca1fef",
            "dc89bfab03d44c2fa0727bb80e4d15f1",
            "5d5a6fb651f740d489c6866affb80d9e",
            "0106f22456064643bbcf51fb4b283ebb",
            "a32ec6af2cfd455e8abeed4b8c7df19a"
          ]
        },
        "id": "onYJiudv0Cog",
        "outputId": "bf529aa1-0ae5-4893-f5d5-a293e76e6749"
      },
      "source": [
        "import torchvision\r\n",
        "import torchvision.transforms as transforms\r\n",
        "\r\n",
        "from torch.utils.data import DataLoader\r\n",
        "\r\n",
        "transform = transforms.Compose([\r\n",
        "  transforms.ToTensor(),\r\n",
        "  transforms.Normalize((0.5, 0.5, 0.5), (0.5, 0.5, 0.5)),\r\n",
        "])\r\n",
        "\r\n",
        "train_dataset = torchvision.datasets.CIFAR10(root='./data', train=True, download=True, transform=transform)\r\n",
        "valid_dataset = torchvision.datasets.CIFAR10(root='./data', train=False, download=True, transform=transform)\r\n",
        "\r\n",
        "train_dataloader = DataLoader(train_dataset, batch_size=batch_size, shuffle=True, num_workers=4)\r\n",
        "valid_dataloader = DataLoader(valid_dataset, batch_size=batch_size, shuffle=False, num_workers=4)"
      ],
      "execution_count": 9,
      "outputs": [
        {
          "output_type": "stream",
          "text": [
            "Downloading https://www.cs.toronto.edu/~kriz/cifar-10-python.tar.gz to ./data/cifar-10-python.tar.gz\n"
          ],
          "name": "stdout"
        },
        {
          "output_type": "display_data",
          "data": {
            "application/vnd.jupyter.widget-view+json": {
              "model_id": "d1171b688b0d499590af068361435a5b",
              "version_minor": 0,
              "version_major": 2
            },
            "text/plain": [
              "HBox(children=(FloatProgress(value=1.0, bar_style='info', max=1.0), HTML(value='')))"
            ]
          },
          "metadata": {
            "tags": []
          }
        },
        {
          "output_type": "stream",
          "text": [
            "Extracting ./data/cifar-10-python.tar.gz to ./data\n",
            "Files already downloaded and verified\n"
          ],
          "name": "stdout"
        }
      ]
    },
    {
      "cell_type": "markdown",
      "metadata": {
        "id": "XOV1pbtgZCLU"
      },
      "source": [
        "### **Training**"
      ]
    },
    {
      "cell_type": "code",
      "metadata": {
        "colab": {
          "base_uri": "https://localhost:8080/"
        },
        "id": "c-2cOzGS9NvE",
        "outputId": "ba91f6eb-a0f0-460d-b02d-6e41cfd282b0"
      },
      "source": [
        "for epoch in range(0, max_epoch):\r\n",
        "    lr_schedule(optimizer, epoch)\r\n",
        "    train(epoch, max_epoch)\r\n",
        "    valid(epoch, max_epoch)"
      ],
      "execution_count": 10,
      "outputs": [
        {
          "output_type": "stream",
          "text": [
            "Train Epoch [0/10]\n",
            "Epoch [0/10] Batch [0] Train Loss: 2.37066650390625\n",
            "Epoch [0/10] Batch [100] Train Loss: 1.6077157258987427\n",
            "Epoch [0/10] Batch [200] Train Loss: 1.5893092155456543\n",
            "Epoch [0/10] Batch [300] Train Loss: 1.6005460023880005\n",
            "Epoch [0/10] Train Loss: 0.013065234131813049 Train Accuracy: 38.574\n",
            "Valid Epoch [0/10]\n",
            "Epoch [0/10] Valid Loss: 0.011038797342777252 Valid Accuracy: 48.94\n",
            "Epoch [0/10] Valid Model Saved: checkpoint/resnet18_cifar10.pt\n",
            "Train Epoch [1/10]\n",
            "Epoch [1/10] Batch [0] Train Loss: 1.2568929195404053\n",
            "Epoch [1/10] Batch [100] Train Loss: 1.165838360786438\n",
            "Epoch [1/10] Batch [200] Train Loss: 1.0081522464752197\n",
            "Epoch [1/10] Batch [300] Train Loss: 1.0745385885238647\n",
            "Epoch [1/10] Train Loss: 0.008944134958982468 Train Accuracy: 58.904\n",
            "Valid Epoch [1/10]\n",
            "Epoch [1/10] Valid Loss: 0.008684489226341248 Valid Accuracy: 60.83\n",
            "Epoch [1/10] Valid Model Saved: checkpoint/resnet18_cifar10.pt\n",
            "Train Epoch [2/10]\n",
            "Epoch [2/10] Batch [0] Train Loss: 0.9922165274620056\n",
            "Epoch [2/10] Batch [100] Train Loss: 0.8554232120513916\n",
            "Epoch [2/10] Batch [200] Train Loss: 0.7857581973075867\n",
            "Epoch [2/10] Batch [300] Train Loss: 0.7381922602653503\n",
            "Epoch [2/10] Train Loss: 0.006673477078676224 Train Accuracy: 69.714\n",
            "Valid Epoch [2/10]\n",
            "Epoch [2/10] Valid Loss: 0.006398997336626053 Valid Accuracy: 71.78\n",
            "Epoch [2/10] Valid Model Saved: checkpoint/resnet18_cifar10.pt\n",
            "Train Epoch [3/10]\n",
            "Epoch [3/10] Batch [0] Train Loss: 0.7074177265167236\n",
            "Epoch [3/10] Batch [100] Train Loss: 0.764783501625061\n",
            "Epoch [3/10] Batch [200] Train Loss: 0.6339704394340515\n",
            "Epoch [3/10] Batch [300] Train Loss: 0.6949663162231445\n",
            "Epoch [3/10] Train Loss: 0.005156445127129555 Train Accuracy: 76.784\n",
            "Valid Epoch [3/10]\n",
            "Epoch [3/10] Valid Loss: 0.0070603635430336 Valid Accuracy: 70.04\n",
            "Epoch [3/10] Valid Model Saved: checkpoint/resnet18_cifar10.pt\n",
            "Train Epoch [4/10]\n",
            "Epoch [4/10] Batch [0] Train Loss: 0.6111353039741516\n",
            "Epoch [4/10] Batch [100] Train Loss: 0.4066460430622101\n",
            "Epoch [4/10] Batch [200] Train Loss: 0.5767440795898438\n",
            "Epoch [4/10] Batch [300] Train Loss: 0.4734116494655609\n",
            "Epoch [4/10] Train Loss: 0.003901787214279175 Train Accuracy: 82.564\n",
            "Valid Epoch [4/10]\n",
            "Epoch [4/10] Valid Loss: 0.0052307660669088365 Valid Accuracy: 78.25\n",
            "Epoch [4/10] Valid Model Saved: checkpoint/resnet18_cifar10.pt\n",
            "Train Epoch [5/10]\n",
            "Epoch [5/10] Batch [0] Train Loss: 0.36998504400253296\n",
            "Epoch [5/10] Batch [100] Train Loss: 0.2529679238796234\n",
            "Epoch [5/10] Batch [200] Train Loss: 0.18467658758163452\n",
            "Epoch [5/10] Batch [300] Train Loss: 0.20170918107032776\n",
            "Epoch [5/10] Train Loss: 0.001977035944312811 Train Accuracy: 91.386\n",
            "Valid Epoch [5/10]\n",
            "Epoch [5/10] Valid Loss: 0.003924201956391335 Valid Accuracy: 83.96\n",
            "Epoch [5/10] Valid Model Saved: checkpoint/resnet18_cifar10.pt\n",
            "Train Epoch [6/10]\n",
            "Epoch [6/10] Batch [0] Train Loss: 0.20821541547775269\n",
            "Epoch [6/10] Batch [100] Train Loss: 0.18656669557094574\n",
            "Epoch [6/10] Batch [200] Train Loss: 0.13758797943592072\n",
            "Epoch [6/10] Batch [300] Train Loss: 0.14707060158252716\n",
            "Epoch [6/10] Train Loss: 0.0013512066239118577 Train Accuracy: 94.158\n",
            "Valid Epoch [6/10]\n",
            "Epoch [6/10] Valid Loss: 0.004078843796253204 Valid Accuracy: 84.41\n",
            "Epoch [6/10] Valid Model Saved: checkpoint/resnet18_cifar10.pt\n",
            "Train Epoch [7/10]\n",
            "Epoch [7/10] Batch [0] Train Loss: 0.14025996625423431\n",
            "Epoch [7/10] Batch [100] Train Loss: 0.1511978954076767\n",
            "Epoch [7/10] Batch [200] Train Loss: 0.114876888692379\n",
            "Epoch [7/10] Batch [300] Train Loss: 0.1509179174900055\n",
            "Epoch [7/10] Train Loss: 0.0008952878043055534 Train Accuracy: 96.348\n",
            "Valid Epoch [7/10]\n",
            "Epoch [7/10] Valid Loss: 0.0045650422334671025 Valid Accuracy: 84.24\n",
            "Epoch [7/10] Valid Model Saved: checkpoint/resnet18_cifar10.pt\n",
            "Train Epoch [8/10]\n",
            "Epoch [8/10] Batch [0] Train Loss: 0.06073056533932686\n",
            "Epoch [8/10] Batch [100] Train Loss: 0.09198237210512161\n",
            "Epoch [8/10] Batch [200] Train Loss: 0.08671857416629791\n",
            "Epoch [8/10] Batch [300] Train Loss: 0.01943875476717949\n",
            "Epoch [8/10] Train Loss: 0.0004991688542813063 Train Accuracy: 98.132\n",
            "Valid Epoch [8/10]\n",
            "Epoch [8/10] Valid Loss: 0.005305228874087333 Valid Accuracy: 83.74\n",
            "Epoch [8/10] Valid Model Saved: checkpoint/resnet18_cifar10.pt\n",
            "Train Epoch [9/10]\n",
            "Epoch [9/10] Batch [0] Train Loss: 0.04318670555949211\n",
            "Epoch [9/10] Batch [100] Train Loss: 0.02122618816792965\n",
            "Epoch [9/10] Batch [200] Train Loss: 0.029383769258856773\n",
            "Epoch [9/10] Batch [300] Train Loss: 0.02881794422864914\n",
            "Epoch [9/10] Train Loss: 0.0002434202894475311 Train Accuracy: 99.208\n",
            "Valid Epoch [9/10]\n",
            "Epoch [9/10] Valid Loss: 0.006056840986013412 Valid Accuracy: 84.06\n",
            "Epoch [9/10] Valid Model Saved: checkpoint/resnet18_cifar10.pt\n"
          ],
          "name": "stdout"
        }
      ]
    }
  ]
}